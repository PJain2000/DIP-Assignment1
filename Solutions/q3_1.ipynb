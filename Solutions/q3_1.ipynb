{
 "cells": [
  {
   "cell_type": "markdown",
   "metadata": {},
   "source": [
    "### Write a function BitQuantizeImage which takes an 8-bit image im and k, the number of bits to which the image needs to be quantized to and returns the k-bit quantized image. Display results for the image quantize.jpg"
   ]
  },
  {
   "cell_type": "code",
   "execution_count": 120,
   "metadata": {},
   "outputs": [],
   "source": [
    "%matplotlib inline\n",
    "\n",
    "import cv2\n",
    "import numpy\n",
    "from matplotlib import pyplot as plt\n",
    "import matplotlib as mpl\n",
    "from PIL import Image\n",
    "from collections import Counter\n",
    "import math"
   ]
  },
  {
   "cell_type": "code",
   "execution_count": 130,
   "metadata": {},
   "outputs": [],
   "source": [
    "image = './DIP_2019_A1/quantize.jpg'\n",
    "\n",
    "img = cv2.imread(image)\n",
    "k = 4"
   ]
  },
  {
   "cell_type": "code",
   "execution_count": 131,
   "metadata": {},
   "outputs": [],
   "source": [
    "def BitQuantizeImage(img, k):\n",
    "    d = 2**(8-k)\n",
    "    b, g, r = cv2.split(img)\n",
    "    \n",
    "    for i in range(0, b.shape[0]):\n",
    "        for j in range(0, b.shape[1]):\n",
    "            b[i][j] = math.floor(b[i][j]/d)*d\n",
    "\n",
    "    for i in range(0, g.shape[0]):\n",
    "        for j in range(0, g.shape[1]):\n",
    "            g[i][j] = math.floor(g[i][j]/d)*d\n",
    "\n",
    "    for i in range(0, r.shape[0]):\n",
    "        for j in range(0, r.shape[1]):\n",
    "            r[i][j] = math.floor(r[i][j]/d)*d\n",
    "            \n",
    "    img1 = cv2.merge([r,g,b])\n",
    "    return img1"
   ]
  },
  {
   "cell_type": "code",
   "execution_count": 132,
   "metadata": {},
   "outputs": [
    {
     "data": {
      "image/png": "[encoded data removed]",
      "text/plain": [
       "<Figure size 432x288 with 1 Axes>"
      ]
     },
     "metadata": {
      "needs_background": "light"
     },
     "output_type": "display_data"
    }
   ],
   "source": [
    "quan_img = BitQuantizeImage(img, k)\n",
    "plt.imshow(quan_img)\n",
    "plt.show()"
   ]
  },
  {
   "cell_type": "code",
   "execution_count": null,
   "metadata": {},
   "outputs": [],
   "source": []
  },
  {
   "cell_type": "code",
   "execution_count": null,
   "metadata": {},
   "outputs": [],
   "source": []
  }
 ],
 "metadata": {
  "kernelspec": {
   "display_name": "Python 3",
   "language": "python",
   "name": "python3"
  },
  "language_info": {
   "codemirror_mode": {
    "name": "ipython",
    "version": 3
   },
   "file_extension": ".py",
   "mimetype": "text/x-python",
   "name": "python",
   "nbconvert_exporter": "python",
   "pygments_lexer": "ipython3",
   "version": "3.7.3"
  }
 },
 "nbformat": 4,
 "nbformat_minor": 2
}
