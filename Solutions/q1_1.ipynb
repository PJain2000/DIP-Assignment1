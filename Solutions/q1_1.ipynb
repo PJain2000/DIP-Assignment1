{
 "cells": [
  {
   "cell_type": "markdown",
   "metadata": {},
   "source": [
    "### Write a function that takes a color image and finds the most frequently occurring color from the image."
   ]
  },
  {
   "cell_type": "code",
   "execution_count": 185,
   "metadata": {},
   "outputs": [],
   "source": [
    "import cv2\n",
    "import numpy\n",
    "from collections import Counter "
   ]
  },
  {
   "cell_type": "code",
   "execution_count": 173,
   "metadata": {},
   "outputs": [],
   "source": [
    "def color(image):\n",
    "    img = cv2.imread(image)\n",
    "    d = img.shape\n",
    "    a = []\n",
    "\n",
    "    for i in range(0, d[0]):\n",
    "        for j in range(0, d[1]):\n",
    "            a.append(tuple(numpy.array(img[i,j,:])))\n",
    "\n",
    "    f = tuple(a)\n",
    "\n",
    "    most_common,num_most_common = Counter(f).most_common(1)[0]\n",
    "\n",
    "    return most_common"
   ]
  },
  {
   "cell_type": "code",
   "execution_count": 174,
   "metadata": {},
   "outputs": [],
   "source": [
    "# bgr\n",
    "res = color('./DIP_2019_A1/fg.jpg')"
   ]
  }
 ],
 "metadata": {
  "kernelspec": {
   "display_name": "Python 3",
   "language": "python",
   "name": "python3"
  },
  "language_info": {
   "codemirror_mode": {
    "name": "ipython",
    "version": 3
   },
   "file_extension": ".py",
   "mimetype": "text/x-python",
   "name": "python",
   "nbconvert_exporter": "python",
   "pygments_lexer": "ipython3",
   "version": "3.7.3"
  }
 },
 "nbformat": 4,
 "nbformat_minor": 2
}
