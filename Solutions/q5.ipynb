{
 "cells": [
  {
   "cell_type": "markdown",
   "metadata": {},
   "source": [
    "#### Q1.What can you say about the histogram of a resulting image if we keep the MSB bits in the bitplane to 0?"
   ]
  },
  {
   "cell_type": "markdown",
   "metadata": {},
   "source": [
    "- If the most significant bit(MSB) is set to zero then the highest intensity will be reduced. In case of 8 bit image the highest pixel value will be reduced from 255 to 127. Therefore, the histogram will be zero after 127."
   ]
  },
  {
   "cell_type": "markdown",
   "metadata": {},
   "source": [
    "#### Q2.What can you say about the histogram of a resulting image if we keep the LSB bits in the bitplane to 0?"
   ]
  },
  {
   "cell_type": "markdown",
   "metadata": {},
   "source": [
    "- If the LSB is set to zero, in that case there will be no pixels with odd intensity values and as a result, the histogram will have values alternatively."
   ]
  },
  {
   "cell_type": "markdown",
   "metadata": {},
   "source": [
    "#### Q3. Transmission is usually achieved through packets containing a start bit, a byte of information and a stop bit. Baud rate is a common measure for digital data transmission and is defined as number of bits transmitted per second. How much time would it take to transmit 512 x 512 grayscale image with intensity 0-255 over a 56K baud link? Similarly, calculate the time required to transmit the same image over a 3000K baud link."
   ]
  },
  {
   "cell_type": "markdown",
   "metadata": {},
   "source": [
    "- Time = (512 X 512) X 10/56000 = 46.8sec\n",
    "- Time = (512 X 512) X 10/3000000 = 0.87sec"
   ]
  }
 ],
 "metadata": {
  "kernelspec": {
   "display_name": "Python 3",
   "language": "python",
   "name": "python3"
  },
  "language_info": {
   "codemirror_mode": {
    "name": "ipython",
    "version": 3
   },
   "file_extension": ".py",
   "mimetype": "text/x-python",
   "name": "python",
   "nbconvert_exporter": "python",
   "pygments_lexer": "ipython3",
   "version": "3.7.3"
  }
 },
 "nbformat": 4,
 "nbformat_minor": 2
}
